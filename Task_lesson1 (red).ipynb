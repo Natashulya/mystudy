{
 "cells": [
  {
   "cell_type": "markdown",
   "id": "42276b2e",
   "metadata": {},
   "source": [
    "#Task_1"
   ]
  },
  {
   "cell_type": "code",
   "execution_count": 3,
   "id": "54c19345",
   "metadata": {},
   "outputs": [],
   "source": [
    "phrase_1 = len(\"Сегодня отличная погода\")"
   ]
  },
  {
   "cell_type": "code",
   "execution_count": 4,
   "id": "73c86be2",
   "metadata": {},
   "outputs": [],
   "source": [
    "phrase_2 = len(\"Вчера тоже тоже была отличная погода, потому что сейчас лето\")"
   ]
  },
  {
   "cell_type": "code",
   "execution_count": 5,
   "id": "a56301ff",
   "metadata": {},
   "outputs": [
    {
     "name": "stdout",
     "output_type": "stream",
     "text": [
      "неверно\n"
     ]
    }
   ],
   "source": [
    "if phrase_1 > phrase_2:\n",
    "    print (\"верно\")\n",
    "else:\n",
    "    print (\"неверно\")"
   ]
  },
  {
   "cell_type": "code",
   "execution_count": 8,
   "id": "10a96e80",
   "metadata": {},
   "outputs": [],
   "source": [
    "phrase_3 = len(\"Дни стали диннее, потому что наступило лето\")"
   ]
  },
  {
   "cell_type": "code",
   "execution_count": 9,
   "id": "a9f03c52",
   "metadata": {},
   "outputs": [],
   "source": [
    "phrase_4 = len(\"Дни стали стали длинее\")"
   ]
  },
  {
   "cell_type": "code",
   "execution_count": 10,
   "id": "b0fa6142",
   "metadata": {},
   "outputs": [
    {
     "name": "stdout",
     "output_type": "stream",
     "text": [
      "верно\n"
     ]
    }
   ],
   "source": [
    "if phrase_3 > phrase_4:\n",
    "    print (\"верно\")\n",
    "else:\n",
    "    print (\"неверно\")"
   ]
  },
  {
   "cell_type": "code",
   "execution_count": 12,
   "id": "9c9a4c7f",
   "metadata": {},
   "outputs": [],
   "source": [
    "phrase_5 = len(\"сегодня воскресенье\")"
   ]
  },
  {
   "cell_type": "code",
   "execution_count": 13,
   "id": "8bf1574d",
   "metadata": {},
   "outputs": [],
   "source": [
    "phrase_6 = len(\"сегодня воскресенье\")"
   ]
  },
  {
   "cell_type": "code",
   "execution_count": 16,
   "id": "ea28d159",
   "metadata": {},
   "outputs": [
    {
     "name": "stdout",
     "output_type": "stream",
     "text": [
      "верно\n"
     ]
    }
   ],
   "source": [
    "if phrase_5 == phrase_6:\n",
    "    print (\"верно\")\n",
    "else:\n",
    "    print (\"неверно\")"
   ]
  },
  {
   "cell_type": "code",
   "execution_count": null,
   "id": "a6e1cd6d",
   "metadata": {},
   "outputs": [],
   "source": [
    "#Task_2"
   ]
  },
  {
   "cell_type": "code",
   "execution_count": 1,
   "id": "a721bdb8",
   "metadata": {},
   "outputs": [
    {
     "name": "stdout",
     "output_type": "stream",
     "text": [
      "2020\n",
      "YES\n"
     ]
    }
   ],
   "source": [
    "year = int(input())\n",
    "if (year % 4 == 0) and (year % 100 != 0) or (year % 400 == 0):\n",
    "    print ('YES')\n",
    "else:\n",
    "    print ('NO')\n",
    "    "
   ]
  },
  {
   "cell_type": "code",
   "execution_count": null,
   "id": "9dc34e56",
   "metadata": {},
   "outputs": [],
   "source": [
    "#Task_3"
   ]
  },
  {
   "cell_type": "code",
   "execution_count": 17,
   "id": "4838f887",
   "metadata": {},
   "outputs": [
    {
     "name": "stdout",
     "output_type": "stream",
     "text": [
      "Введите день рождения:02\n",
      "Введите месяц рождения:05\n",
      "Введите год рождения:1989\n",
      "Знак зодиака:Телец\n"
     ]
    }
   ],
   "source": [
    "date = int(input(\"Введите день рождения:\"))\n",
    "\n",
    "month = int(input(\"Введите месяц рождения:\"))\n",
    "\n",
    "year = int(input(\"Введите год рождения:\"))\n",
    "\n",
    "\n",
    "if (date >= 21 and date <= 31 and month == 3) or(month == 4 and date >= 1 and date <= 19):\n",
    "\n",
    "   print(\"Знак зодиака:Овен\")\n",
    "\n",
    "elif (date >= 20 and date <= 30 and month == 4) or(month == 5 and date >= 1 and date <= 20):\n",
    "\n",
    "   print(\"Знак зодиака:Телец\")\n",
    "\n",
    "elif (date >= 21 and date <= 31 and month == 5) or(month == 6 and date >= 1 and date <= 21):\n",
    "\n",
    "   print(\"Знак зодиака:Близнецы\")\n",
    "\n",
    "elif (date >= 22 and date <= 30 and month == 6) or(month == 7 and date >= 1 and date <= 22):\n",
    "\n",
    "   print(\"Знак зодиака:Рак\")\n",
    "\n",
    "elif (date >= 23 and date <= 31 and month == 7) or(month == 8 and date >= 1 and date <= 22):\n",
    "\n",
    "   print(\"Знак зодиака:Лев\")\n",
    "\n",
    "elif (date >= 23 and date <= 31 and month == 8) or(month == 9 and date >= 1 and date <= 22):\n",
    "\n",
    "   print(\"Знак зодиака:Дева\")\n",
    "\n",
    "elif (date >= 23 and date <= 30 and month == 9) or(month == 10 and date >= 1 and date <= 23):\n",
    "\n",
    "   print(\"Знак зодиака:Весы\")\n",
    "\n",
    "elif (date >= 24 and date <= 31 and month == 10) or(month == 11 and date >=1 and date <= 22):\n",
    "\n",
    "   print(\"Знак зодиака:Скорпион\")\n",
    "\n",
    "elif (date >= 23 and date <= 30 and month == 11) or(month == 12 and date >= 1 and date <= 21):\n",
    "\n",
    "   print(\"Знак зодиака:Стрелец\")\n",
    "\n",
    "elif (date >= 22 and date <= 31 and month == 12) or(month == 1 and date >= 1 and date <= 20):\n",
    "\n",
    "   print(\"Знак зодиака:Козерог\")\n",
    "\n",
    "elif (date>= 21 and date <= 31 and month == 1) or(month == 2 and date >= 1 and date <= 18):\n",
    "\n",
    "   print(\"Знак зодиака:Водолей\")\n",
    "\n",
    "elif (date >= 19 and date <= 29 and month == 2) or(month == 3 and date >= 1 and date <= 20):\n",
    "\n",
    "   print(\"Знак зодиака:Рыбы\")\n"
   ]
  },
  {
   "cell_type": "code",
   "execution_count": null,
   "id": "75435ee7",
   "metadata": {},
   "outputs": [],
   "source": [
    "#Task_4"
   ]
  },
  {
   "cell_type": "code",
   "execution_count": 25,
   "id": "f30c85dd",
   "metadata": {},
   "outputs": [
    {
     "name": "stdout",
     "output_type": "stream",
     "text": [
      "Введите длина коробки205\n",
      "Введите ширина коробки25\n",
      "Введите высота коробки35\n",
      "Коробка для лыж\n"
     ]
    }
   ],
   "source": [
    "length = int(input(\"Введите длина коробки\")) \n",
    "width = int(input(\"Введите ширина коробки\"))\n",
    "height = int(input(\"Введите высота коробки\"))\n",
    "if length >= 200:\n",
    "    print(\"Коробка для лыж\")\n",
    "elif (length < 15 and width <15 and height <15):\n",
    "\n",
    "    print(\"Коробка 1\")\n",
    "\n",
    "elif (length >=15 and length <50 or width >=15 and width <50 or height >=15 and height <50):\n",
    "\n",
    "    print(\"Коробка 2\")\n",
    "\n",
    "else:\n",
    "    print(\"Стандартная коробка №3\")\n",
    "   "
   ]
  },
  {
   "cell_type": "code",
   "execution_count": null,
   "id": "e9bad2dd",
   "metadata": {},
   "outputs": [],
   "source": []
  }
 ],
 "metadata": {
  "kernelspec": {
   "display_name": "Python 3",
   "language": "python",
   "name": "python3"
  },
  "language_info": {
   "codemirror_mode": {
    "name": "ipython",
    "version": 3
   },
   "file_extension": ".py",
   "mimetype": "text/x-python",
   "name": "python",
   "nbconvert_exporter": "python",
   "pygments_lexer": "ipython3",
   "version": "3.8.8"
  }
 },
 "nbformat": 4,
 "nbformat_minor": 5
}
